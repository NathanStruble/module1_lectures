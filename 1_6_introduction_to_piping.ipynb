{
  "cells": [
    {
      "cell_type": "code",
      "execution_count": null,
      "metadata": {
        "id": "024IiuCfm-qB",
        "outputId": "fd3f278d-50e9-4dd2-91cf-c453f8792f3f"
      },
      "outputs": [
        {
          "name": "stdout",
          "output_type": "stream",
          "text": [
            "The rpy2.ipython extension is already loaded. To reload it, use:\n",
            "  %reload_ext rpy2.ipython\n"
          ]
        }
      ],
      "source": [
        "import rpy2\n",
        "%load_ext rpy2.ipython"
      ]
    },
    {
      "cell_type": "code",
      "execution_count": null,
      "metadata": {
        "id": "7wpMTbjWm-qD"
      },
      "outputs": [],
      "source": [
        "%%R\n",
        "library(dplyr)"
      ]
    },
    {
      "cell_type": "markdown",
      "metadata": {
        "id": "MSVZWVh7m-qD"
      },
      "source": [
        "# Introduction to piping"
      ]
    },
    {
      "cell_type": "markdown",
      "metadata": {
        "id": "QY59p-mSm-qE"
      },
      "source": [
        "## Review -- Piping with `dplyr`\n",
        "\n",
        "You might be familiar with piping in R using the `%>%` operator from `dplyr`"
      ]
    },
    {
      "cell_type": "code",
      "execution_count": null,
      "metadata": {
        "id": "nZpjs_b_m-qF",
        "outputId": "14c53df4-8a60-4006-f193-17d6507c6a71"
      },
      "outputs": [
        {
          "data": {
            "text/plain": [
              "[1] \"1.77\"\n"
            ]
          },
          "metadata": {},
          "output_type": "display_data"
        }
      ],
      "source": [
        "%%R\n",
        "pi %>% \n",
        "sqrt %>% \n",
        "round(2) %>% \n",
        "as.character"
      ]
    },
    {
      "cell_type": "markdown",
      "metadata": {
        "id": "3WCirF4Im-qF"
      },
      "source": [
        "## Making `pipeable` functions using `composable`\n",
        "\n",
        "To get functions to be pipeable in Python, we need to wrap them in `pipeable` from the `composable` module"
      ]
    },
    {
      "cell_type": "code",
      "execution_count": 1,
      "metadata": {
        "id": "sZJtfbPbm-qG",
        "outputId": "ec448251-48c7-4d0d-d4df-a7c1addbc1b4",
        "colab": {
          "base_uri": "https://localhost:8080/"
        }
      },
      "outputs": [
        {
          "output_type": "stream",
          "name": "stdout",
          "text": [
            "Looking in indexes: https://pypi.org/simple, https://us-python.pkg.dev/colab-wheels/public/simple/\n",
            "Collecting composable\n",
            "  Downloading composable-0.2.5-py3-none-any.whl (7.3 kB)\n",
            "Collecting toolz<0.12.0,>=0.11.1\n",
            "  Downloading toolz-0.11.2-py3-none-any.whl (55 kB)\n",
            "\u001b[K     |████████████████████████████████| 55 kB 1.6 MB/s \n",
            "\u001b[?25hCollecting python-forge<19.0,>=18.6\n",
            "  Downloading python_forge-18.6.0-py35-none-any.whl (31 kB)\n",
            "Installing collected packages: toolz, python-forge, composable\n",
            "  Attempting uninstall: toolz\n",
            "    Found existing installation: toolz 0.12.0\n",
            "    Uninstalling toolz-0.12.0:\n",
            "      Successfully uninstalled toolz-0.12.0\n",
            "Successfully installed composable-0.2.5 python-forge-18.6.0 toolz-0.11.2\n"
          ]
        }
      ],
      "source": [
        "!pip install composable # Install if missing or in colab"
      ]
    },
    {
      "cell_type": "code",
      "execution_count": 2,
      "metadata": {
        "id": "7aWtSlD3m-qG"
      },
      "outputs": [],
      "source": [
        "from composable import pipeable"
      ]
    },
    {
      "cell_type": "markdown",
      "metadata": {
        "id": "3kIAs1wHm-qH"
      },
      "source": [
        "## Making some pipeable functions\n",
        "\n",
        "Before I can recreate the R example, I need to make some pipeable functions."
      ]
    },
    {
      "cell_type": "markdown",
      "metadata": {
        "id": "HpQlrqj1m-qI"
      },
      "source": [
        "## Making a pipeable `sqrt`\n",
        "\n",
        "To make an existing function pipeable, I need to wrap or *decorate* it with `pipeable`."
      ]
    },
    {
      "cell_type": "code",
      "execution_count": 12,
      "metadata": {
        "id": "mGy8dNLom-qI"
      },
      "outputs": [],
      "source": [
        "import math as m\n",
        "sqrt = pipeable(m.sqrt)"
      ]
    },
    {
      "cell_type": "code",
      "execution_count": null,
      "metadata": {
        "id": "xUtBNwHjm-qI",
        "outputId": "ee52ff0c-417b-4b8b-8535-93852f501b82"
      },
      "outputs": [
        {
          "data": {
            "text/plain": [
              "1.4142135623730951"
            ]
          },
          "execution_count": 24,
          "metadata": {},
          "output_type": "execute_result"
        }
      ],
      "source": [
        "2 >> sqrt"
      ]
    },
    {
      "cell_type": "markdown",
      "metadata": {
        "id": "NRbQejlZm-qJ"
      },
      "source": [
        "## Some common functions are not actually functions\n",
        "\n",
        "Some Python \"functions\" are not actually functions, but type constructors.  Examples include `str`, `float`, `int`, `list`, etc.  This also includes the most powerful type constructor of them all, `type`"
      ]
    },
    {
      "cell_type": "code",
      "execution_count": null,
      "metadata": {
        "id": "yKiYXGjam-qJ",
        "outputId": "878d7839-b3fb-424a-fe7f-5917e3b5a7f7"
      },
      "outputs": [
        {
          "data": {
            "text/plain": [
              "type"
            ]
          },
          "execution_count": 34,
          "metadata": {},
          "output_type": "execute_result"
        }
      ],
      "source": [
        "type(str)"
      ]
    },
    {
      "cell_type": "code",
      "execution_count": null,
      "metadata": {
        "id": "GPM-UWWtm-qJ",
        "outputId": "29465351-ab90-41bd-ba28-58e72fc15f28"
      },
      "outputs": [
        {
          "data": {
            "text/plain": [
              "1.8708286933869707"
            ]
          },
          "execution_count": 100,
          "metadata": {},
          "output_type": "execute_result"
        }
      ],
      "source": [
        "wont_always_work = pipeable(float)\n",
        "3.5 >> sqrt >> wont_always_work"
      ]
    },
    {
      "cell_type": "markdown",
      "metadata": {
        "id": "OT2O_XA8m-qK"
      },
      "source": [
        "## Use a `lambda` to create a pipeable type conversion function\n",
        "\n",
        "To be safe, we need to wrap type constructors in a lambda, THEN `pipeable`"
      ]
    },
    {
      "cell_type": "code",
      "execution_count": null,
      "metadata": {
        "id": "GXHmd-UVm-qK"
      },
      "outputs": [],
      "source": [
        "toStr = pipeable(lambda n: str(n))"
      ]
    },
    {
      "cell_type": "code",
      "execution_count": null,
      "metadata": {
        "id": "fEb764Mvm-qK",
        "outputId": "688ccf64-d27e-4716-8c6d-d04a62a531dd"
      },
      "outputs": [
        {
          "data": {
            "text/plain": [
              "'3.5'"
            ]
          },
          "execution_count": 42,
          "metadata": {},
          "output_type": "execute_result"
        }
      ],
      "source": [
        "3.5 >> toStr"
      ]
    },
    {
      "cell_type": "markdown",
      "metadata": {
        "id": "KYFjZ6vDm-qK"
      },
      "source": [
        "## Piping and multiple arguments\n",
        "\n",
        "Piped in data is inserted **on the right**"
      ]
    },
    {
      "cell_type": "code",
      "execution_count": 8,
      "metadata": {
        "id": "BFCFDVcOm-qK"
      },
      "outputs": [],
      "source": [
        "test = pipeable(lambda a, b: f\"first:{a} second:{b}\")"
      ]
    },
    {
      "cell_type": "code",
      "execution_count": 9,
      "metadata": {
        "id": "BUYnjc9zm-qL",
        "outputId": "b69ce79c-7e3e-4e13-e565-ac0edb1b1411",
        "colab": {
          "base_uri": "https://localhost:8080/",
          "height": 35
        }
      },
      "outputs": [
        {
          "output_type": "execute_result",
          "data": {
            "text/plain": [
              "'first:1 second:2'"
            ],
            "application/vnd.google.colaboratory.intrinsic+json": {
              "type": "string"
            }
          },
          "metadata": {},
          "execution_count": 9
        }
      ],
      "source": [
        "test(1,2)"
      ]
    },
    {
      "cell_type": "code",
      "execution_count": 10,
      "metadata": {
        "id": "HG1h3llrm-qL",
        "outputId": "43b0c758-6bdb-4898-f98b-a404b93f1979",
        "colab": {
          "base_uri": "https://localhost:8080/",
          "height": 35
        }
      },
      "outputs": [
        {
          "output_type": "execute_result",
          "data": {
            "text/plain": [
              "'first:2 second:1'"
            ],
            "application/vnd.google.colaboratory.intrinsic+json": {
              "type": "string"
            }
          },
          "metadata": {},
          "execution_count": 10
        }
      ],
      "source": [
        "1 >> test(2)"
      ]
    },
    {
      "cell_type": "code",
      "execution_count": 11,
      "metadata": {
        "id": "BM2j5Y0wm-qM",
        "outputId": "399c22e0-96b6-42cf-d323-51ea52ff7d9d",
        "colab": {
          "base_uri": "https://localhost:8080/",
          "height": 35
        }
      },
      "outputs": [
        {
          "output_type": "execute_result",
          "data": {
            "text/plain": [
              "'first:1 second:2'"
            ],
            "application/vnd.google.colaboratory.intrinsic+json": {
              "type": "string"
            }
          },
          "metadata": {},
          "execution_count": 11
        }
      ],
      "source": [
        "2 >> test(1)"
      ]
    },
    {
      "cell_type": "markdown",
      "metadata": {
        "id": "EIxZfZYFm-qN"
      },
      "source": [
        "## Rearranging argument order\n",
        "\n",
        "The default `round` function uses `round(number, digits)`"
      ]
    },
    {
      "cell_type": "code",
      "execution_count": null,
      "metadata": {
        "id": "Mbb2keI7m-qN",
        "outputId": "29f936d0-7cb1-4567-d052-ef72dd5c2bfd"
      },
      "outputs": [
        {
          "data": {
            "text/plain": [
              "3.14"
            ]
          },
          "execution_count": 58,
          "metadata": {},
          "output_type": "execute_result"
        }
      ],
      "source": [
        "round(m.pi, 2)"
      ]
    },
    {
      "cell_type": "markdown",
      "metadata": {
        "id": "tWknXhURm-qN"
      },
      "source": [
        "For piping, it is more convenient to switch the order."
      ]
    },
    {
      "cell_type": "code",
      "execution_count": null,
      "metadata": {
        "id": "q-4OX5eFm-qN"
      },
      "outputs": [],
      "source": [
        "rnd = pipeable(lambda d, n: round(n, d))"
      ]
    },
    {
      "cell_type": "code",
      "execution_count": null,
      "metadata": {
        "id": "4nyMucrVm-qN",
        "outputId": "5660f640-f42b-4a61-8076-6ba53cfb459b"
      },
      "outputs": [
        {
          "data": {
            "text/plain": [
              "3.14"
            ]
          },
          "execution_count": 59,
          "metadata": {},
          "output_type": "execute_result"
        }
      ],
      "source": [
        "m.pi >> rnd(2) "
      ]
    },
    {
      "cell_type": "markdown",
      "metadata": {
        "id": "HirB7iwfm-qN"
      },
      "source": [
        "## Recreating the R example"
      ]
    },
    {
      "cell_type": "code",
      "execution_count": null,
      "metadata": {
        "id": "agJG-bfxm-qN",
        "outputId": "70315412-00b7-49a1-8ec0-0469fe4dbdcc"
      },
      "outputs": [
        {
          "data": {
            "text/plain": [
              "'1.77'"
            ]
          },
          "execution_count": 18,
          "metadata": {},
          "output_type": "execute_result"
        }
      ],
      "source": [
        "m.pi >> sqrt >> rnd(2) >> toStr"
      ]
    },
    {
      "cell_type": "code",
      "execution_count": null,
      "metadata": {
        "scrolled": true,
        "id": "Z7jh0kNpm-qO",
        "outputId": "5037a91b-b872-4c96-ab30-42a8ae79a2d1"
      },
      "outputs": [
        {
          "ename": "SyntaxError",
          "evalue": "invalid syntax (<ipython-input-62-f682fcc14d43>, line 1)",
          "output_type": "error",
          "traceback": [
            "\u001b[0;36m  File \u001b[0;32m\"<ipython-input-62-f682fcc14d43>\"\u001b[0;36m, line \u001b[0;32m1\u001b[0m\n\u001b[0;31m    m.pi >>\u001b[0m\n\u001b[0m            ^\u001b[0m\n\u001b[0;31mSyntaxError\u001b[0m\u001b[0;31m:\u001b[0m invalid syntax\n"
          ]
        }
      ],
      "source": [
        "m.pi >> \n",
        "sqrt >> \n",
        "rnd(2) >> \n",
        "toStr"
      ]
    },
    {
      "cell_type": "markdown",
      "metadata": {
        "id": "oJegeFpim-qO"
      },
      "source": [
        "## Hint 1: Wrap multi-line piped expressions in parentheses"
      ]
    },
    {
      "cell_type": "code",
      "execution_count": null,
      "metadata": {
        "id": "O_GUMMIxm-qO",
        "outputId": "680b2ed9-b2ee-4719-f547-81999dd71a55"
      },
      "outputs": [
        {
          "data": {
            "text/plain": [
              "'1.77'"
            ]
          },
          "execution_count": 64,
          "metadata": {},
          "output_type": "execute_result"
        }
      ],
      "source": [
        "(m.pi >> \n",
        " sqrt >> \n",
        " rnd(2) >> \n",
        " toStr)"
      ]
    },
    {
      "cell_type": "markdown",
      "metadata": {
        "id": "PQTLEUqwm-qO"
      },
      "source": [
        "## Hint 2: Put the pipes at the start of a line"
      ]
    },
    {
      "cell_type": "code",
      "execution_count": null,
      "metadata": {
        "id": "d6ez3q0Lm-qO",
        "outputId": "dfdec0d4-4341-471c-e566-030fac73910e"
      },
      "outputs": [
        {
          "data": {
            "text/plain": [
              "'1.77'"
            ]
          },
          "execution_count": 67,
          "metadata": {},
          "output_type": "execute_result"
        }
      ],
      "source": [
        "(m.pi \n",
        " >> sqrt \n",
        " >> rnd(2) \n",
        " >> toStr\n",
        ")"
      ]
    },
    {
      "cell_type": "markdown",
      "metadata": {
        "id": "AoDAqnUxm-qO"
      },
      "source": [
        "## Pipeable functions return functions when partially complete\n",
        "\n",
        "Note that `pipeable` functions are curried, meaning they return functions if not provided with enough arguments."
      ]
    },
    {
      "cell_type": "code",
      "execution_count": null,
      "metadata": {
        "id": "ttR4nwJ7m-qO"
      },
      "outputs": [],
      "source": [
        "threeArgs= pipeable(lambda a, b, c: f\"first:{a} second:{b} third:{c}\")"
      ]
    },
    {
      "cell_type": "code",
      "execution_count": null,
      "metadata": {
        "scrolled": true,
        "id": "Q1LVcVVem-qP",
        "outputId": "3c8d7e52-71a8-4c1b-8224-b5df9e005804"
      },
      "outputs": [
        {
          "data": {
            "text/plain": [
              "<function <lambda> at 0x11e788620>"
            ]
          },
          "execution_count": 81,
          "metadata": {},
          "output_type": "execute_result"
        }
      ],
      "source": [
        "threeArgs(\"Bob\")"
      ]
    },
    {
      "cell_type": "code",
      "execution_count": null,
      "metadata": {
        "scrolled": true,
        "id": "1As-C8eqm-qP",
        "outputId": "36e6947b-3e7c-48eb-b754-81de96641933"
      },
      "outputs": [
        {
          "data": {
            "text/plain": [
              "<function <lambda> at 0x11e788620>"
            ]
          },
          "execution_count": 83,
          "metadata": {},
          "output_type": "execute_result"
        }
      ],
      "source": [
        "threeArgs(\"Bob\", \"Alice\")"
      ]
    },
    {
      "cell_type": "markdown",
      "metadata": {
        "id": "G_Sti8m0m-qP"
      },
      "source": [
        "## We can save and call a partial functions "
      ]
    },
    {
      "cell_type": "code",
      "execution_count": null,
      "metadata": {
        "id": "IG6-Pip_m-qP"
      },
      "outputs": [],
      "source": [
        "bob = threeArgs(\"Bob\")"
      ]
    },
    {
      "cell_type": "code",
      "execution_count": null,
      "metadata": {
        "id": "R9MYMthPm-qP",
        "outputId": "9d8698a4-4d02-4be9-ce3f-fdeedfa863c5"
      },
      "outputs": [
        {
          "data": {
            "text/plain": [
              "'first:Bob second:2 third:3'"
            ]
          },
          "execution_count": 78,
          "metadata": {},
          "output_type": "execute_result"
        }
      ],
      "source": [
        "bob(2,3)"
      ]
    },
    {
      "cell_type": "code",
      "execution_count": null,
      "metadata": {
        "id": "h3NA9hI6m-qP"
      },
      "outputs": [],
      "source": [
        "bobAndAlice = bob(\"Alice\")"
      ]
    },
    {
      "cell_type": "code",
      "execution_count": null,
      "metadata": {
        "scrolled": true,
        "id": "3ifpOYHfm-qP",
        "outputId": "604d9215-1235-41ce-ee54-bba1bc95b1e1"
      },
      "outputs": [
        {
          "data": {
            "text/plain": [
              "'first:Bob second:Alice third:3'"
            ]
          },
          "execution_count": 84,
          "metadata": {},
          "output_type": "execute_result"
        }
      ],
      "source": [
        "bobAndAlice(3)"
      ]
    },
    {
      "cell_type": "markdown",
      "metadata": {
        "id": "zuX4PjoTm-qP"
      },
      "source": [
        "## Example\n",
        "\n",
        "Suppose that I round to two decimal places A LOT.  In this case it might be nice to have a specialized function"
      ]
    },
    {
      "cell_type": "code",
      "execution_count": null,
      "metadata": {
        "id": "TsTXM2rWm-qQ"
      },
      "outputs": [],
      "source": [
        "rndToTwo = rnd(2)"
      ]
    },
    {
      "cell_type": "code",
      "execution_count": null,
      "metadata": {
        "id": "XEhCYDvCm-qQ",
        "outputId": "15ab3285-c765-4bb7-bab9-4bff0459f49b"
      },
      "outputs": [
        {
          "data": {
            "text/plain": [
              "3.14"
            ]
          },
          "execution_count": 87,
          "metadata": {},
          "output_type": "execute_result"
        }
      ],
      "source": [
        "m.pi >> rndToTwo"
      ]
    },
    {
      "cell_type": "markdown",
      "metadata": {
        "id": "zzwoczMJm-qQ"
      },
      "source": [
        "<font color=\"red\"><h1>Exercise 3</h1></font>\n",
        "\n",
        "Here is a problem that you solved in a previous activity:\n",
        "\n",
        "    The function `random` from the `random` module can be used to generate numbers between 0 and 1 at random. We want to return numbers between $a$ and $b$ at random, which can be accomplished using the formula $V = (b - a)*random() + a$.\n",
        "\n",
        "    Write a lambda function that takes `a` and `b` as arguments are returns a number between `a` and `b` at random.\n",
        "   \n",
        "Note that we can name the parts the process as follows:\n",
        "\n",
        "> b takeAway a >> times a random number >> subtract a\n",
        "\n",
        "Let's redo this problem, but this time with piping; where we will make a pipeable function to perform each task."
      ]
    },
    {
      "cell_type": "code",
      "execution_count": 56,
      "metadata": {
        "id": "SxMu2zh1m-qQ"
      },
      "outputs": [],
      "source": [
        "import random\n",
        "takeAway = pipeable(lambda bigger_number, smaller_number: bigger_number - smaller_number)\n",
        "timesRandom = pipeable(lambda range: range * random.random())\n",
        "add = pipeable(lambda random_times_range, smaller_number: random_times_range + smaller_number)"
      ]
    },
    {
      "cell_type": "code",
      "source": [
        "takeAway(2,1)"
      ],
      "metadata": {
        "id": "YIHyDT_5tuvp",
        "outputId": "601be0a0-344c-4191-b692-9f464663fd48",
        "colab": {
          "base_uri": "https://localhost:8080/"
        }
      },
      "execution_count": 55,
      "outputs": [
        {
          "output_type": "execute_result",
          "data": {
            "text/plain": [
              "1"
            ]
          },
          "metadata": {},
          "execution_count": 55
        }
      ]
    },
    {
      "cell_type": "code",
      "execution_count": 59,
      "metadata": {
        "id": "AzTV77uXm-qQ",
        "outputId": "e9e83e1e-9d03-430f-9013-2b688723d4cd",
        "colab": {
          "base_uri": "https://localhost:8080/"
        }
      },
      "outputs": [
        {
          "output_type": "execute_result",
          "data": {
            "text/plain": [
              "1.3920305052077104"
            ]
          },
          "metadata": {},
          "execution_count": 59
        }
      ],
      "source": [
        "def uniform(a, b):\n",
        "    return ( b\n",
        "            >> takeAway(a)\n",
        "            >> timesRandom\n",
        "            >> add(b)\n",
        "            )\n",
        "uniform(1,2)"
      ]
    },
    {
      "cell_type": "code",
      "execution_count": 60,
      "metadata": {
        "id": "PwiPzFncm-qQ"
      },
      "outputs": [],
      "source": [
        "assert 1 <= uniform(1,2) <= 2"
      ]
    },
    {
      "cell_type": "code",
      "execution_count": null,
      "metadata": {
        "id": "h1-NWzVHm-qQ"
      },
      "outputs": [],
      "source": []
    }
  ],
  "metadata": {
    "kernelspec": {
      "display_name": "Python 3",
      "language": "python",
      "name": "python3"
    },
    "language_info": {
      "codemirror_mode": {
        "name": "ipython",
        "version": 3
      },
      "file_extension": ".py",
      "mimetype": "text/x-python",
      "name": "python",
      "nbconvert_exporter": "python",
      "pygments_lexer": "ipython3",
      "version": "3.7.2"
    },
    "colab": {
      "provenance": []
    }
  },
  "nbformat": 4,
  "nbformat_minor": 0
}